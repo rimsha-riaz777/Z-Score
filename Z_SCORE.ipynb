{
  "nbformat": 4,
  "nbformat_minor": 0,
  "metadata": {
    "colab": {
      "name": "Z SCORE.ipynb",
      "provenance": []
    },
    "kernelspec": {
      "name": "python3",
      "display_name": "Python 3"
    },
    "language_info": {
      "name": "python"
    }
  },
  "cells": [
    {
      "cell_type": "code",
      "execution_count": 1,
      "metadata": {
        "id": "2ouhuJFW1NPg"
      },
      "outputs": [],
      "source": [
        "import numpy as np\n",
        "import pandas as pd\n",
        "import scipy.stats as stats"
      ]
    },
    {
      "cell_type": "markdown",
      "source": [
        "# step 1: import modules\n",
        "# step 2: create an array of values "
      ],
      "metadata": {
        "id": "D1VQcCjr2qR2"
      }
    },
    {
      "cell_type": "code",
      "source": [
        "data = np.array([2,4,6,89,4,56,7,12,44,22,23,16])"
      ],
      "metadata": {
        "id": "8p_xiob93A93"
      },
      "execution_count": 2,
      "outputs": []
    },
    {
      "cell_type": "markdown",
      "source": [
        ""
      ],
      "metadata": {
        "id": "v1URn1N13NlH"
      }
    },
    {
      "cell_type": "markdown",
      "source": [
        "# **step 3: calculate the z-score for each value in the array.**"
      ],
      "metadata": {
        "id": "XQn3g03T3rPG"
      }
    },
    {
      "cell_type": "code",
      "source": [
        "stats.zscore(data)"
      ],
      "metadata": {
        "colab": {
          "base_uri": "https://localhost:8080/"
        },
        "id": "dZz2FpWu398P",
        "outputId": "1aaf7570-c3a6-453f-a2be-1e7d17189bd7"
      },
      "execution_count": 3,
      "outputs": [
        {
          "output_type": "execute_result",
          "data": {
            "text/plain": [
              "array([-0.85539754, -0.7767403 , -0.69808305,  2.56619263, -0.7767403 ,\n",
              "        1.26834808, -0.65875443, -0.46211132,  0.79640461, -0.06882509,\n",
              "       -0.02949647, -0.30479683])"
            ]
          },
          "metadata": {},
          "execution_count": 3
        }
      ]
    },
    {
      "cell_type": "markdown",
      "source": [
        "# Each z-score tells us how many standard deviation away an individual values is from the mean. for example:\n",
        "# The first values of \"6\" in the array is 1.394 standard deviations below the mean. The fifth valuesof \"13\" in the array is 0 standard deviations away from the mean i.e it is equal to the mean. The last values of \"22\" in the array is 1.793 standard deviation above the mean. "
      ],
      "metadata": {
        "id": "UcATYvKn4g6e"
      }
    }
  ]
}